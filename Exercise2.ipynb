{
  "metadata": {
    "kernelspec": {
      "name": "python",
      "display_name": "Python (Pyodide)",
      "language": "python"
    },
    "language_info": {
      "codemirror_mode": {
        "name": "python",
        "version": 3
      },
      "file_extension": ".py",
      "mimetype": "text/x-python",
      "name": "python",
      "nbconvert_exporter": "python",
      "pygments_lexer": "ipython3",
      "version": "3.8"
    }
  },
  "nbformat_minor": 5,
  "nbformat": 4,
  "cells": [
    {
      "id": "87b0d92f-d927-47ee-b537-a9836833dd16",
      "cell_type": "code",
      "source": "# Описание общей идеи решения:\n# Вначале удаляем фигурные скобки и переводим значения столбца 'labels' в бинарные значения (0 - не входит в класс, 1 - входит в класс)\n# Обрабатываем текст с помощью TF-IDF векторизации.\n# Обучаем модель с помощью метода случайного леса (RandomForestClassifier).\n# Тестируем её по метрике «F1-score со взвешенным усреднением»\n# Запускаем модель на данных test.csv и генерируем выходной файл predicted_labels.csv",
      "metadata": {
        "trusted": true
      },
      "outputs": [],
      "execution_count": 4
    },
    {
      "id": "ababc17a-a867-4612-a439-5d6c005139b9",
      "cell_type": "code",
      "source": "# Импортируем нужные библиотеки\nimport pandas as pd\nfrom sklearn.feature_extraction.text import TfidfVectorizer\nfrom sklearn.ensemble import RandomForestClassifier\nfrom sklearn.model_selection import train_test_split\nfrom sklearn.metrics import f1_score\n\n# Загрузка данных\ntrain_data = pd.read_csv('train.csv', sep=',')\ntest_data = pd.read_csv('test.csv')\n\n# Убираем NaN значения\ntrain_data['text'] = train_data['text'].fillna('')\ntest_data['text'] = test_data['text'].fillna('')\n\n# Создаём функцию для удаления круглых скобок - {}\ndef remove_braces(string):\n   trans_table = {ord('{'): None, ord('}'): None}\n   return string.translate(trans_table)\n\n# Применяем функцию remove_braces ко всему столбцу 'labels'\ntrain_data['labels'] = train_data['labels'].apply(remove_braces)\n\n# Преобразование текста в числовые признаки с использованием TF-IDF векторизации\nvectorizer = TfidfVectorizer(max_features=200)\nX_train_tfidf = vectorizer.fit_transform(train_data['text'])\n\n# Подготовка меток\nlabels = train_data['labels'].str.get_dummies(sep=', ')\n\n# Разделение данных на обучающую и валидационную выборку\nX_train, X_val, y_train, y_val = train_test_split(X_train_tfidf, labels, test_size=0.2, random_state=42)\n\n# Обучение модели RandomForestClassifier для мульти-лейбл классификации\nrf_model = RandomForestClassifier(n_estimators=100, max_depth=50, random_state=42)\nrf_model.fit(X_train, y_train)\n\n# Получение предсказаний для валидационной выборки и вычисление multilabel f1-score\ny_pred = rf_model.predict(X_val)\nf1score = f1_score(y_val, y_pred, average='samples')\n\n# Выводим multilabel f1-score\nprint(\"Multilabel f1-score:\", f1score)\n\n# Получение предсказаний для тестовой выборки\nX_test_tfidf = vectorizer.transform(test_data['text'])\ntest_predictions = rf_model.predict(X_test_tfidf)\n\n# Создание нового датафрейма для предсказанных меток\nresult_df = pd.DataFrame(test_predictions, columns=labels.columns)\n\n# Создание столбца 'labels' на основе значений столбцов классов'\nresult_df['labels'] = result_df.apply(lambda row: \"{\" + ', '.join([col for col in labels.columns if row[col]==1]) + \"}\", axis=1)\n\n# Сохранение предсказанных классов в файл\nresult_df['labels'].to_csv('predicted_labels.csv', index=True)",
      "metadata": {
        "trusted": true
      },
      "outputs": [],
      "execution_count": null
    }
  ]
}